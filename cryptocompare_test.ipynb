{
 "cells": [
  {
   "cell_type": "code",
   "execution_count": 1,
   "metadata": {},
   "outputs": [],
   "source": [
    "import cryptocompare\n",
    "import pandas as pd\n",
    "import datetime\n",
    "import matplotlib.pyplot as plt"
   ]
  },
  {
   "cell_type": "code",
   "execution_count": 2,
   "metadata": {},
   "outputs": [
    {
     "ename": "AttributeError",
     "evalue": "module 'cryptocompare' has no attribute 'set_api_key'",
     "output_type": "error",
     "traceback": [
      "\u001b[1;31m---------------------------------------------------------------------------\u001b[0m",
      "\u001b[1;31mAttributeError\u001b[0m                            Traceback (most recent call last)",
      "Input \u001b[1;32mIn [2]\u001b[0m, in \u001b[0;36m<cell line: 1>\u001b[1;34m()\u001b[0m\n\u001b[1;32m----> 1\u001b[0m \u001b[43mcryptocompare\u001b[49m\u001b[38;5;241;43m.\u001b[39;49m\u001b[43mset_api_key\u001b[49m(\u001b[38;5;124m'\u001b[39m\u001b[38;5;124m80146998056b45c477c76bc5db321364b9d525a006685636c16eac9566b80a54\u001b[39m\u001b[38;5;124m'\u001b[39m)\n",
      "\u001b[1;31mAttributeError\u001b[0m: module 'cryptocompare' has no attribute 'set_api_key'"
     ]
    }
   ],
   "source": [
    "cryptocompare.set_api_key('80146998056b45c477c76bc5db321364b9d525a006685636c16eac9566b80a54')"
   ]
  },
  {
   "cell_type": "code",
   "execution_count": 4,
   "metadata": {},
   "outputs": [
    {
     "data": {
      "text/plain": [
       "['CURRENCY',\n",
       " 'Dict',\n",
       " 'LIMIT',\n",
       " 'List',\n",
       " 'Optional',\n",
       " 'Timestamp',\n",
       " 'Union',\n",
       " '__builtins__',\n",
       " '__cached__',\n",
       " '__doc__',\n",
       " '__file__',\n",
       " '__loader__',\n",
       " '__name__',\n",
       " '__package__',\n",
       " '__path__',\n",
       " '__spec__',\n",
       " 'cryptocompare',\n",
       " 'datetime',\n",
       " 'get_avg',\n",
       " 'get_coin_list',\n",
       " 'get_exchanges',\n",
       " 'get_historical_price',\n",
       " 'get_historical_price_day',\n",
       " 'get_historical_price_day_all',\n",
       " 'get_historical_price_day_from',\n",
       " 'get_historical_price_hour',\n",
       " 'get_historical_price_hour_from',\n",
       " 'get_historical_price_minute',\n",
       " 'get_pairs',\n",
       " 'get_price',\n",
       " 'os',\n",
       " 'requests',\n",
       " 'time',\n",
       " 'typing']"
      ]
     },
     "execution_count": 4,
     "metadata": {},
     "output_type": "execute_result"
    }
   ],
   "source": [
    "dir(cryptocompare)"
   ]
  },
  {
   "cell_type": "code",
   "execution_count": null,
   "metadata": {},
   "outputs": [],
   "source": []
  }
 ],
 "metadata": {
  "kernelspec": {
   "display_name": "stand",
   "language": "python",
   "name": "python3"
  },
  "language_info": {
   "codemirror_mode": {
    "name": "ipython",
    "version": 3
   },
   "file_extension": ".py",
   "mimetype": "text/x-python",
   "name": "python",
   "nbconvert_exporter": "python",
   "pygments_lexer": "ipython3",
   "version": "3.12.4"
  }
 },
 "nbformat": 4,
 "nbformat_minor": 2
}
