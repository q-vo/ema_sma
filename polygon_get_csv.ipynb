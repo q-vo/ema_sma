{
 "cells": [
  {
   "cell_type": "code",
   "execution_count": 1,
   "metadata": {},
   "outputs": [],
   "source": [
    "from polygon import RESTClient\n",
    "from datetime import date\n",
    "import pandas as pd\n",
    "import time\n",
    "import csv"
   ]
  },
  {
   "cell_type": "code",
   "execution_count": 2,
   "metadata": {},
   "outputs": [],
   "source": [
    "sectors = ['SPY', 'QQQ', 'IWM', 'VTI', 'GLD', 'SLV', 'TLT', 'XLC', 'XLY', 'XLP', 'XLE', 'XLF', 'XLV', 'XLI', 'XLB', 'XLRE', 'XLK', 'XLU']\n",
    "volatility = ['VIXY', 'VIXM', 'SVOL']\n",
    "crypto = ['X:BTCUSD', 'X:ETHUSD']\n",
    "futures = sectors + volatility\n",
    "sectors = sectors + volatility\n",
    "today = date.today()\n",
    "client = RESTClient('C63TLpl4yCvUy0NbGOfaYYguCO_E_1L5')"
   ]
  },
  {
   "cell_type": "code",
   "execution_count": 3,
   "metadata": {},
   "outputs": [],
   "source": [
    "for sector in sectors:\n",
    "    aggs = client.get_aggs(sector, 1, \"day\", \"2022-03-04\", today)\n",
    "    df = pd.DataFrame(aggs)\n",
    "    df.to_csv('data/' + sector.replace(':', '') + '.csv')\n",
    "    time.sleep(15)"
   ]
  },
  {
   "cell_type": "code",
   "execution_count": 4,
   "metadata": {},
   "outputs": [],
   "source": [
    "\n",
    "#for sector in sectors:\n",
    "#    with open('long_poly_data/' + sector + '.csv', newline='') as csvfile:\n",
    "#        data = csv.writer(csvfile)\n",
    "#        write_data = pd.read_csv('data/' + sector.replace(':', '') + '.csv')\n",
    "#        print(df)\n",
    "        #data.writerow(df.iloc[-1].values)"
   ]
  },
  {
   "cell_type": "code",
   "execution_count": null,
   "metadata": {},
   "outputs": [],
   "source": []
  }
 ],
 "metadata": {
  "kernelspec": {
   "display_name": "stand",
   "language": "python",
   "name": "python3"
  },
  "language_info": {
   "codemirror_mode": {
    "name": "ipython",
    "version": 3
   },
   "file_extension": ".py",
   "mimetype": "text/x-python",
   "name": "python",
   "nbconvert_exporter": "python",
   "pygments_lexer": "ipython3",
   "version": "3.9.17"
  },
  "orig_nbformat": 4,
  "vscode": {
   "interpreter": {
    "hash": "8a7fd63056a8106dbe4a2cd98e79ca221f28a9e66633384555a5260fd4ba5854"
   }
  }
 },
 "nbformat": 4,
 "nbformat_minor": 2
}
