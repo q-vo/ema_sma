{
 "cells": [
  {
   "cell_type": "code",
   "execution_count": 1,
   "metadata": {},
   "outputs": [],
   "source": [
    "from polygon import RESTClient\n",
    "from datetime import date\n",
    "import pandas as pd\n",
    "import time\n",
    "import csv"
   ]
  },
  {
   "cell_type": "code",
   "execution_count": 2,
   "metadata": {},
   "outputs": [],
   "source": [
    "sectors = ['SPY', 'QQQ', 'IWM', 'VTI', 'GLD', 'SLV', 'TLT', 'XLC', 'XLY', 'XLP', 'XLE', 'XLF', 'XLV', 'XLI', 'XLB', 'XLRE', 'XLK', 'XLU']\n",
    "volatility = ['VIXY', 'VIXM', 'SVOL']\n",
    "crypto = ['X:BTCUSD', 'X:ETHUSD']\n",
    "futures = sectors + volatility\n",
    "sectors = sectors + volatility\n",
    "today = date.today()\n",
    "client = RESTClient('C63TLpl4yCvUy0NbGOfaYYguCO_E_1L5')"
   ]
  },
  {
   "cell_type": "code",
   "execution_count": 3,
   "metadata": {},
   "outputs": [
    {
     "ename": "NoResultsError",
     "evalue": "Expected key \"results\" in response {'ticker': 'SLVTLT', 'queryCount': 0, 'resultsCount': 0, 'adjusted': True, 'status': 'DELAYED', 'request_id': 'd195a35a4bf15dfbe0e2200e2b57a59b'}.Make sure you have sufficient permissions and your request parameters are valid.This is the url that returned no results: https://api.polygon.io/v2/aggs/ticker/SLVTLT/range/1/day/2022-03-04/2024-01-05",
     "output_type": "error",
     "traceback": [
      "\u001b[1;31m---------------------------------------------------------------------------\u001b[0m",
      "\u001b[1;31mNoResultsError\u001b[0m                            Traceback (most recent call last)",
      "Input \u001b[1;32mIn [3]\u001b[0m, in \u001b[0;36m<cell line: 1>\u001b[1;34m()\u001b[0m\n\u001b[0;32m      1\u001b[0m \u001b[38;5;28;01mfor\u001b[39;00m sector \u001b[38;5;129;01min\u001b[39;00m sectors:\n\u001b[1;32m----> 2\u001b[0m     aggs \u001b[38;5;241m=\u001b[39m \u001b[43mclient\u001b[49m\u001b[38;5;241;43m.\u001b[39;49m\u001b[43mget_aggs\u001b[49m\u001b[43m(\u001b[49m\u001b[43msector\u001b[49m\u001b[43m,\u001b[49m\u001b[43m \u001b[49m\u001b[38;5;241;43m1\u001b[39;49m\u001b[43m,\u001b[49m\u001b[43m \u001b[49m\u001b[38;5;124;43m\"\u001b[39;49m\u001b[38;5;124;43mday\u001b[39;49m\u001b[38;5;124;43m\"\u001b[39;49m\u001b[43m,\u001b[49m\u001b[43m \u001b[49m\u001b[38;5;124;43m\"\u001b[39;49m\u001b[38;5;124;43m2022-03-04\u001b[39;49m\u001b[38;5;124;43m\"\u001b[39;49m\u001b[43m,\u001b[49m\u001b[43m \u001b[49m\u001b[43mtoday\u001b[49m\u001b[43m)\u001b[49m\n\u001b[0;32m      3\u001b[0m     df \u001b[38;5;241m=\u001b[39m pd\u001b[38;5;241m.\u001b[39mDataFrame(aggs)\n\u001b[0;32m      4\u001b[0m     df\u001b[38;5;241m.\u001b[39mto_csv(\u001b[38;5;124m'\u001b[39m\u001b[38;5;124mdata/\u001b[39m\u001b[38;5;124m'\u001b[39m \u001b[38;5;241m+\u001b[39m sector\u001b[38;5;241m.\u001b[39mreplace(\u001b[38;5;124m'\u001b[39m\u001b[38;5;124m:\u001b[39m\u001b[38;5;124m'\u001b[39m, \u001b[38;5;124m'\u001b[39m\u001b[38;5;124m'\u001b[39m) \u001b[38;5;241m+\u001b[39m \u001b[38;5;124m'\u001b[39m\u001b[38;5;124m.csv\u001b[39m\u001b[38;5;124m'\u001b[39m)\n",
      "File \u001b[1;32mc:\\Users\\quack\\anaconda3\\envs\\stand\\lib\\site-packages\\polygon\\rest\\aggs.py:93\u001b[0m, in \u001b[0;36mAggsClient.get_aggs\u001b[1;34m(self, ticker, multiplier, timespan, from_, to, adjusted, sort, limit, params, raw, options)\u001b[0m\n\u001b[0;32m     90\u001b[0m     to \u001b[38;5;241m=\u001b[39m \u001b[38;5;28mint\u001b[39m(to\u001b[38;5;241m.\u001b[39mtimestamp() \u001b[38;5;241m*\u001b[39m \u001b[38;5;28mself\u001b[39m\u001b[38;5;241m.\u001b[39mtime_mult(\u001b[38;5;124m\"\u001b[39m\u001b[38;5;124mmillis\u001b[39m\u001b[38;5;124m\"\u001b[39m))\n\u001b[0;32m     91\u001b[0m url \u001b[38;5;241m=\u001b[39m \u001b[38;5;124mf\u001b[39m\u001b[38;5;124m\"\u001b[39m\u001b[38;5;124m/v2/aggs/ticker/\u001b[39m\u001b[38;5;132;01m{\u001b[39;00mticker\u001b[38;5;132;01m}\u001b[39;00m\u001b[38;5;124m/range/\u001b[39m\u001b[38;5;132;01m{\u001b[39;00mmultiplier\u001b[38;5;132;01m}\u001b[39;00m\u001b[38;5;124m/\u001b[39m\u001b[38;5;132;01m{\u001b[39;00mtimespan\u001b[38;5;132;01m}\u001b[39;00m\u001b[38;5;124m/\u001b[39m\u001b[38;5;132;01m{\u001b[39;00mfrom_\u001b[38;5;132;01m}\u001b[39;00m\u001b[38;5;124m/\u001b[39m\u001b[38;5;132;01m{\u001b[39;00mto\u001b[38;5;132;01m}\u001b[39;00m\u001b[38;5;124m\"\u001b[39m\n\u001b[1;32m---> 93\u001b[0m \u001b[38;5;28;01mreturn\u001b[39;00m \u001b[38;5;28;43mself\u001b[39;49m\u001b[38;5;241;43m.\u001b[39;49m\u001b[43m_get\u001b[49m\u001b[43m(\u001b[49m\n\u001b[0;32m     94\u001b[0m \u001b[43m    \u001b[49m\u001b[43mpath\u001b[49m\u001b[38;5;241;43m=\u001b[39;49m\u001b[43murl\u001b[49m\u001b[43m,\u001b[49m\n\u001b[0;32m     95\u001b[0m \u001b[43m    \u001b[49m\u001b[43mparams\u001b[49m\u001b[38;5;241;43m=\u001b[39;49m\u001b[38;5;28;43mself\u001b[39;49m\u001b[38;5;241;43m.\u001b[39;49m\u001b[43m_get_params\u001b[49m\u001b[43m(\u001b[49m\u001b[38;5;28;43mself\u001b[39;49m\u001b[38;5;241;43m.\u001b[39;49m\u001b[43mget_aggs\u001b[49m\u001b[43m,\u001b[49m\u001b[43m \u001b[49m\u001b[38;5;28;43mlocals\u001b[39;49m\u001b[43m(\u001b[49m\u001b[43m)\u001b[49m\u001b[43m)\u001b[49m\u001b[43m,\u001b[49m\n\u001b[0;32m     96\u001b[0m \u001b[43m    \u001b[49m\u001b[43mresult_key\u001b[49m\u001b[38;5;241;43m=\u001b[39;49m\u001b[38;5;124;43m\"\u001b[39;49m\u001b[38;5;124;43mresults\u001b[39;49m\u001b[38;5;124;43m\"\u001b[39;49m\u001b[43m,\u001b[49m\n\u001b[0;32m     97\u001b[0m \u001b[43m    \u001b[49m\u001b[43mdeserializer\u001b[49m\u001b[38;5;241;43m=\u001b[39;49m\u001b[43mAgg\u001b[49m\u001b[38;5;241;43m.\u001b[39;49m\u001b[43mfrom_dict\u001b[49m\u001b[43m,\u001b[49m\n\u001b[0;32m     98\u001b[0m \u001b[43m    \u001b[49m\u001b[43mraw\u001b[49m\u001b[38;5;241;43m=\u001b[39;49m\u001b[43mraw\u001b[49m\u001b[43m,\u001b[49m\n\u001b[0;32m     99\u001b[0m \u001b[43m    \u001b[49m\u001b[43moptions\u001b[49m\u001b[38;5;241;43m=\u001b[39;49m\u001b[43moptions\u001b[49m\u001b[43m,\u001b[49m\n\u001b[0;32m    100\u001b[0m \u001b[43m\u001b[49m\u001b[43m)\u001b[49m\n",
      "File \u001b[1;32mc:\\Users\\quack\\anaconda3\\envs\\stand\\lib\\site-packages\\polygon\\rest\\base.py:97\u001b[0m, in \u001b[0;36mBaseClient._get\u001b[1;34m(self, path, params, result_key, deserializer, raw, options)\u001b[0m\n\u001b[0;32m     95\u001b[0m \u001b[38;5;28;01mif\u001b[39;00m result_key:\n\u001b[0;32m     96\u001b[0m     \u001b[38;5;28;01mif\u001b[39;00m result_key \u001b[38;5;129;01mnot\u001b[39;00m \u001b[38;5;129;01min\u001b[39;00m obj:\n\u001b[1;32m---> 97\u001b[0m         \u001b[38;5;28;01mraise\u001b[39;00m NoResultsError(\n\u001b[0;32m     98\u001b[0m             \u001b[38;5;124mf\u001b[39m\u001b[38;5;124m'\u001b[39m\u001b[38;5;124mExpected key \u001b[39m\u001b[38;5;124m\"\u001b[39m\u001b[38;5;132;01m{\u001b[39;00mresult_key\u001b[38;5;132;01m}\u001b[39;00m\u001b[38;5;124m\"\u001b[39m\u001b[38;5;124m in response \u001b[39m\u001b[38;5;132;01m{\u001b[39;00mobj\u001b[38;5;132;01m}\u001b[39;00m\u001b[38;5;124m.\u001b[39m\u001b[38;5;124m'\u001b[39m\n\u001b[0;32m     99\u001b[0m             \u001b[38;5;241m+\u001b[39m \u001b[38;5;124m\"\u001b[39m\u001b[38;5;124mMake sure you have sufficient permissions and your request parameters are valid.\u001b[39m\u001b[38;5;124m\"\u001b[39m\n\u001b[0;32m    100\u001b[0m             \u001b[38;5;241m+\u001b[39m \u001b[38;5;124mf\u001b[39m\u001b[38;5;124m\"\u001b[39m\u001b[38;5;124mThis is the url that returned no results: \u001b[39m\u001b[38;5;132;01m{\u001b[39;00mresp\u001b[38;5;241m.\u001b[39mgeturl()\u001b[38;5;132;01m}\u001b[39;00m\u001b[38;5;124m\"\u001b[39m\n\u001b[0;32m    101\u001b[0m         )\n\u001b[0;32m    102\u001b[0m     obj \u001b[38;5;241m=\u001b[39m obj[result_key]\n\u001b[0;32m    104\u001b[0m \u001b[38;5;28;01mif\u001b[39;00m deserializer:\n",
      "\u001b[1;31mNoResultsError\u001b[0m: Expected key \"results\" in response {'ticker': 'SLVTLT', 'queryCount': 0, 'resultsCount': 0, 'adjusted': True, 'status': 'DELAYED', 'request_id': 'd195a35a4bf15dfbe0e2200e2b57a59b'}.Make sure you have sufficient permissions and your request parameters are valid.This is the url that returned no results: https://api.polygon.io/v2/aggs/ticker/SLVTLT/range/1/day/2022-03-04/2024-01-05"
     ]
    }
   ],
   "source": [
    "for sector in sectors:\n",
    "    aggs = client.get_aggs(sector, 1, \"day\", \"2022-03-04\", today)\n",
    "    df = pd.DataFrame(aggs)\n",
    "    df.to_csv('data/' + sector.replace(':', '') + '.csv')\n",
    "    time.sleep(15)"
   ]
  },
  {
   "cell_type": "code",
   "execution_count": null,
   "metadata": {},
   "outputs": [],
   "source": [
    "\n",
    "#for sector in sectors:\n",
    "#    with open('long_poly_data/' + sector + '.csv', newline='') as csvfile:\n",
    "#        data = csv.writer(csvfile)\n",
    "#        write_data = pd.read_csv('data/' + sector.replace(':', '') + '.csv')\n",
    "#        print(df)\n",
    "        #data.writerow(df.iloc[-1].values)"
   ]
  },
  {
   "cell_type": "code",
   "execution_count": null,
   "metadata": {},
   "outputs": [],
   "source": []
  }
 ],
 "metadata": {
  "kernelspec": {
   "display_name": "stand",
   "language": "python",
   "name": "python3"
  },
  "language_info": {
   "codemirror_mode": {
    "name": "ipython",
    "version": 3
   },
   "file_extension": ".py",
   "mimetype": "text/x-python",
   "name": "python",
   "nbconvert_exporter": "python",
   "pygments_lexer": "ipython3",
   "version": "3.9.17"
  },
  "orig_nbformat": 4,
  "vscode": {
   "interpreter": {
    "hash": "8a7fd63056a8106dbe4a2cd98e79ca221f28a9e66633384555a5260fd4ba5854"
   }
  }
 },
 "nbformat": 4,
 "nbformat_minor": 2
}
